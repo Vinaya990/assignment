{
 "cells": [
  {
   "cell_type": "code",
   "execution_count": 3,
   "metadata": {
    "scrolled": false
   },
   "outputs": [
    {
     "name": "stdout",
     "output_type": "stream",
     "text": [
      "welcome to python programming\n"
     ]
    }
   ],
   "source": [
    "#Task:  1:1\n",
    "\n",
    "print(\"welcome to python programming\")\n",
    "            "
   ]
  },
  {
   "cell_type": "code",
   "execution_count": 4,
   "metadata": {},
   "outputs": [
    {
     "name": "stdout",
     "output_type": "stream",
     "text": [
      "[2002, 2009, 2016, 2023, 2037, 2044, 2051, 2058, 2072, 2079, 2086, 2093, 2107, 2114, 2121, 2128, 2142, 2149, 2156, 2163, 2177, 2184, 2191, 2198, 2212, 2219, 2226, 2233, 2247, 2254, 2261, 2268, 2282, 2289, 2296, 2303, 2317, 2324, 2331, 2338, 2352, 2359, 2366, 2373, 2387, 2394, 2401, 2408, 2422, 2429, 2436, 2443, 2457, 2464, 2471, 2478, 2492, 2499, 2506, 2513, 2527, 2534, 2541, 2548, 2562, 2569, 2576, 2583, 2597, 2604, 2611, 2618, 2632, 2639, 2646, 2653, 2667, 2674, 2681, 2688, 2702, 2709, 2716, 2723, 2737, 2744, 2751, 2758, 2772, 2779, 2786, 2793, 2807, 2814, 2821, 2828, 2842, 2849, 2856, 2863, 2877, 2884, 2891, 2898, 2912, 2919, 2926, 2933, 2947, 2954, 2961, 2968, 2982, 2989, 2996, 3003, 3017, 3024, 3031, 3038, 3052, 3059, 3066, 3073, 3087, 3094, 3101, 3108, 3122, 3129, 3136, 3143, 3157, 3164, 3171, 3178, 3192, 3199]\n"
     ]
    }
   ],
   "source": [
    "#Task:  1:2\n",
    "\n",
    "list=[x for x in range(2000,3200) if x % 7 == 0 and x % 5 != 0]\n",
    "print(list)"
   ]
  },
  {
   "cell_type": "code",
   "execution_count": 5,
   "metadata": {
    "scrolled": true
   },
   "outputs": [
    {
     "name": "stdout",
     "output_type": "stream",
     "text": [
      "enter the first namevinaya\n",
      "enter the last namesankar\n",
      "sankar vinaya\n"
     ]
    }
   ],
   "source": [
    "#Task:  1:3\n",
    "#Reverse the string\n",
    "\n",
    "first_name=input(\"enter the first name\")\n",
    "last_name=input(\"enter the last name\")\n",
    "print(last_name +\" \" +first_name)"
   ]
  },
  {
   "cell_type": "code",
   "execution_count": 6,
   "metadata": {},
   "outputs": [
    {
     "name": "stdout",
     "output_type": "stream",
     "text": [
      "the volumne of spher is 150.71999999999997\n"
     ]
    }
   ],
   "source": [
    "#Task:  1:4\n",
    "#volumne of sphere\n",
    "\n",
    "r=12\n",
    "pi=3.14\n",
    "v=4/3*pi *r*3\n",
    "print (\"the volumne of spher is\",v)"
   ]
  },
  {
   "cell_type": "code",
   "execution_count": 7,
   "metadata": {},
   "outputs": [
    {
     "name": "stdout",
     "output_type": "stream",
     "text": [
      "enter the stringvinaya\n"
     ]
    },
    {
     "data": {
      "text/plain": [
       "'ayaniv'"
      ]
     },
     "execution_count": 7,
     "metadata": {},
     "output_type": "execute_result"
    }
   ],
   "source": [
    "#Task:  2:1\n",
    "#Reverse the string\n",
    "x=input(\"enter the string\")\n",
    "x[::-1]\n",
    "            \n",
    "        \n"
   ]
  },
  {
   "cell_type": "code",
   "execution_count": 8,
   "metadata": {},
   "outputs": [
    {
     "name": "stdout",
     "output_type": "stream",
     "text": [
      "enter the no of rows:5\n",
      "*\n",
      "**\n",
      "***\n",
      "****\n",
      "*****\n",
      "****\n",
      "***\n",
      "**\n",
      "*\n"
     ]
    }
   ],
   "source": [
    "#Task:  2:2\n",
    "#print pattern using 2 for loop\n",
    "\n",
    "n=int(input(\"enter the no of rows:\"))\n",
    "for i in range(n):\n",
    "    print(\"*\" *(i+1))\n",
    "for i in range(n-1):\n",
    "        print(\"*\" *(n-i-1))"
   ]
  },
  {
   "cell_type": "code",
   "execution_count": 1,
   "metadata": {},
   "outputs": [
    {
     "name": "stdout",
     "output_type": "stream",
     "text": [
      "enter the numbers:10,20,30,40,50\n",
      "list: ['10', '20', '30', '40', '50']\n"
     ]
    }
   ],
   "source": [
    "#Task:  2:3\n",
    "\n",
    "l=str(input(\"enter the numbers:\"))\n",
    "li=l.split(\",\")\n",
    "li=list(li)\n",
    "print(\"list:\",li)"
   ]
  },
  {
   "cell_type": "code",
   "execution_count": 1,
   "metadata": {
    "scrolled": true
   },
   "outputs": [
    {
     "name": "stdout",
     "output_type": "stream",
     "text": [
      "WE THE PEOPLE OF INDIA,\n",
      "\thaving solemnly resolved to constituion India into a SOVEREIGN,!\n",
      "\t\tSOCIALIST,SECULAR,DEMOCRATIC REPUBLIC \n",
      "\t\t and to secure to all its citizens\n"
     ]
    }
   ],
   "source": [
    "#Task:  2:4\n",
    "#ESCAPE CHARACHTERS\n",
    "\n",
    "str=\"WE THE PEOPLE OF INDIA,\\n\\thaving solemnly resolved to constituion India into a SOVEREIGN,!\\n\\t\\tSOCIALIST,SECULAR,DEMOCRATIC REPUBLIC \\n\\t\\t and to secure to all its citizens\"\n",
    "print (str)"
   ]
  },
  {
   "cell_type": "code",
   "execution_count": null,
   "metadata": {},
   "outputs": [],
   "source": []
  }
 ],
 "metadata": {
  "kernelspec": {
   "display_name": "Python 3",
   "language": "python",
   "name": "python3"
  },
  "language_info": {
   "codemirror_mode": {
    "name": "ipython",
    "version": 3
   },
   "file_extension": ".py",
   "mimetype": "text/x-python",
   "name": "python",
   "nbconvert_exporter": "python",
   "pygments_lexer": "ipython3",
   "version": "3.7.6"
  }
 },
 "nbformat": 4,
 "nbformat_minor": 4
}
